{
 "cells": [
  {
   "cell_type": "code",
   "execution_count": 10,
   "metadata": {
    "collapsed": false
   },
   "outputs": [
    {
     "name": "stdout",
     "output_type": "stream",
     "text": [
      "Using matplotlib backend: Qt4Agg\n",
      "Populating the interactive namespace from numpy and matplotlib\n"
     ]
    }
   ],
   "source": [
    "%pylab\n",
    "%matplotlib inline"
   ]
  },
  {
   "cell_type": "code",
   "execution_count": 42,
   "metadata": {
    "collapsed": false
   },
   "outputs": [],
   "source": [
    "# Imports\n",
    "import scipy.io as sio\n",
    "import sklearn.linear_model as lmod\n",
    "\n",
    "\n",
    "ex5_data = sio.loadmat('ex5data1')"
   ]
  },
  {
   "cell_type": "code",
   "execution_count": null,
   "metadata": {
    "collapsed": false
   },
   "outputs": [],
   "source": []
  },
  {
   "cell_type": "code",
   "execution_count": 43,
   "metadata": {
    "collapsed": false
   },
   "outputs": [
    {
     "name": "stdout",
     "output_type": "stream",
     "text": [
      "ex5_data[ytest].shape = (21, 1)\n",
      "ex5_data[yval].shape = (21, 1)\n",
      "ex5_data[Xtest].shape = (21, 1)\n",
      "ex5_data[Xval].shape = (21, 1)\n",
      "ex5_data[y].shape = (12, 1)\n",
      "ex5_data[X].shape = (12, 1)\n"
     ]
    }
   ],
   "source": [
    "for key, val in ex5_data.items():\n",
    "    pass\n",
    "    try:\n",
    "        print('ex5_data[{0}].shape = {1}'.format(key, val.shape))      \n",
    "        \n",
    "    except Exception as ex:\n",
    "        pass\n"
   ]
  },
  {
   "cell_type": "code",
   "execution_count": 78,
   "metadata": {
    "collapsed": false
   },
   "outputs": [
    {
     "name": "stdout",
     "output_type": "stream",
     "text": [
      "rr5.alpha_ is 0.001\n"
     ]
    }
   ],
   "source": [
    "#Define variables\n",
    "X = ex5_data['X']\n",
    "\n",
    "y = ex5_data[\"y\"]\n",
    "Xtest = ex5_data['Xtest']\n",
    "ytest = ex5_data['ytest']\n",
    "Xval = ex5_data['Xval']\n",
    "yval = ex5_data['yval']\n",
    "\n",
    "\n",
    "# linear regression\n",
    "lr = lmod.LinearRegression(normalize=True)\n",
    "lr.fit(X, y)\n",
    "ytest_lr = lr.predict(Xtest)\n",
    "\n",
    "# Linear regression with up to 5th order polynomial features\n",
    "X5 = np.array([X.squeeze()**n for n in range(1,6)]).transpose()\n",
    "Xtest5 = np.array([Xtest.squeeze()**n for n in range(1,6)]).transpose()\n",
    "\n",
    "lr5 = lmod.LinearRegression(normalize=True)\n",
    "lr5.fit(X5, y)\n",
    "ytest_lr5 = lr5.predict(Xtest5)\n",
    "\n",
    "# Ridge regression with GCV to set the parameter\n",
    "rr5 = lmod.RidgeCV(alphas=[0.00001, .0001, 0.001,0.01], normalize=True)\n",
    "rr5.fit(X5, y)\n",
    "print(\"rr5.alpha_ is {}\".format(rr5.alpha_))\n",
    "ytest_rr5 = rr5.predict(Xtest5)\n"
   ]
  },
  {
   "cell_type": "code",
   "execution_count": 75,
   "metadata": {
    "collapsed": true
   },
   "outputs": [],
   "source": [
    "hub = lmod.LinearRegression"
   ]
  },
  {
   "cell_type": "code",
   "execution_count": null,
   "metadata": {
    "collapsed": true
   },
   "outputs": [],
   "source": []
  },
  {
   "cell_type": "code",
   "execution_count": 79,
   "metadata": {
    "collapsed": false,
    "scrolled": false
   },
   "outputs": [
    {
     "data": {
      "text/plain": [
       "[<matplotlib.lines.Line2D at 0x7f5b910c9410>]"
      ]
     },
     "execution_count": 79,
     "metadata": {},
     "output_type": "execute_result"
    },
    {
     "data": {
      "image/png": "[encoded data removed]",
      "text/plain": [
       "<matplotlib.figure.Figure at 0x7f5ba4241710>"
      ]
     },
     "metadata": {},
     "output_type": "display_data"
    }
   ],
   "source": [
    "# Plot the data\n",
    "plot(X.squeeze(), y.squeeze(), linewidth=0, marker='o', c='red', markersize=8)\n",
    "plot(Xtest.squeeze(), ytest_lr.squeeze(), 'b', linewidth=2)\n",
    "plot(Xtest.squeeze(), ytest_lr5.squeeze(), 'k', linewidth=0, marker='x')\n",
    "plot(Xtest.squeeze(), ytest_rr5.squeeze(), 'k', linewidth=0, marker='.')"
   ]
  },
  {
   "cell_type": "code",
   "execution_count": 65,
   "metadata": {
    "collapsed": false
   },
   "outputs": [
    {
     "data": {
      "text/plain": [
       "(21,)"
      ]
     },
     "execution_count": 65,
     "metadata": {},
     "output_type": "execute_result"
    }
   ],
   "source": [
    "\n",
    "\n",
    "ytest_lr5.squeeze().shape"
   ]
  },
  {
   "cell_type": "code",
   "execution_count": null,
   "metadata": {
    "collapsed": true
   },
   "outputs": [],
   "source": []
  }
 ],
 "metadata": {
  "kernelspec": {
   "display_name": "Python 2",
   "language": "python",
   "name": "python2"
  },
  "language_info": {
   "codemirror_mode": {
    "name": "ipython",
    "version": 2
   },
   "file_extension": ".py",
   "mimetype": "text/x-python",
   "name": "python",
   "nbconvert_exporter": "python",
   "pygments_lexer": "ipython2",
   "version": "2.7.9"
  }
 },
 "nbformat": 4,
 "nbformat_minor": 0
}
